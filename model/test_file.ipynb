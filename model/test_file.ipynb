{
 "cells": [
  {
   "cell_type": "code",
   "id": "initial_id",
   "metadata": {
    "collapsed": true,
    "ExecuteTime": {
     "end_time": "2025-08-14T17:57:57.048976Z",
     "start_time": "2025-08-14T17:57:56.976474Z"
    }
   },
   "source": [
    "import requests\n",
    "\n",
    "url = \"http://127.0.0.1:8000/predict\"\n",
    "img=r\"C:\\Users\\swaya\\Desktop\\Timepass\\python\\NExt_one_week\\New Plant Diseases Dataset(Augmented)\\New Plant Diseases Dataset(Augmented)\\train\\Corn_(maize)___Cercospora_leaf_spot Gray_leaf_spot\\0a403456-5c5e-4aad-aa89-a118175c6ddd___RS_GLSp 4501_270deg.JPG\"\n",
    "files = {\"file\": open(img, \"rb\")}\n",
    "response = requests.post(url, files=files)\n",
    "\n",
    "print(response.json())\n"
   ],
   "outputs": [
    {
     "name": "stdout",
     "output_type": "stream",
     "text": [
      "{'prediction': 'Corn_(maize)___Cercospora_leaf_spot Gray_leaf_spot'}\n"
     ]
    }
   ],
   "execution_count": 7
  },
  {
   "metadata": {},
   "cell_type": "code",
   "outputs": [],
   "execution_count": null,
   "source": "",
   "id": "e6e589221f18d36e"
  }
 ],
 "metadata": {
  "kernelspec": {
   "display_name": "Python 3",
   "language": "python",
   "name": "python3"
  },
  "language_info": {
   "codemirror_mode": {
    "name": "ipython",
    "version": 2
   },
   "file_extension": ".py",
   "mimetype": "text/x-python",
   "name": "python",
   "nbconvert_exporter": "python",
   "pygments_lexer": "ipython2",
   "version": "2.7.6"
  }
 },
 "nbformat": 4,
 "nbformat_minor": 5
}
